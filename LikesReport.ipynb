{
 "cells": [
  {
   "cell_type": "markdown",
   "id": "38b1df81-e3c2-4701-9622-d6989ec2da83",
   "metadata": {},
   "source": [
    "# Likes Report Assignment\n",
    "## Kyle O'Leary\n",
    "## September 13th"
   ]
  },
  {
   "cell_type": "markdown",
   "id": "427aea8d-fe66-4ebb-a232-032d37e8b0fa",
   "metadata": {},
   "source": [
    "1. The source of my personal Instagram data would be me. I technically created it because I clicked on posts on that fit my personal interests.\n",
    "2. I think this data was created to show the user what they have been looking at or interested in. The data can serve purposes such as if what the user likes, comments on, and looks at and overall interacts with. Bascally getting information about the user.\n",
    "3. This data could be reliable because it is what the personal user is interacting with over social media.\n",
    "4. It could be unreliable because there could be some things going on with the users personal life but that may not be displayed on social media. Example, the users family member passes away and the user likes posts of cats to try and lighten their mood, if a random looked at the data and saw the user liked posts of cats, they would think the user is fine and happy in life but in reality they arent."
   ]
  },
  {
   "cell_type": "code",
   "execution_count": 38,
   "id": "e92289e8-092c-48f6-8fad-18b6422dfbc4",
   "metadata": {},
   "outputs": [],
   "source": [
    "import json\n",
    "import pandas as pd"
   ]
  },
  {
   "cell_type": "code",
   "execution_count": 39,
   "id": "98331490-4d32-4315-bf2b-1dcb4ad96bf4",
   "metadata": {},
   "outputs": [],
   "source": [
    "path = \"/Users/kyleoleary/Downloads/instagram-kyleoleary17-2024-08-29-vXK2KDdU/your_instagram_activity/likes/liked_posts.json\"\n",
    "with open(path) as j:\n",
    "    like = json.load(j)"
   ]
  },
  {
   "cell_type": "code",
   "execution_count": 40,
   "id": "5806d792-9089-4ab9-8e2d-b6fba299f1af",
   "metadata": {},
   "outputs": [
    {
     "data": {
      "text/plain": [
       "dict_keys(['likes_media_likes'])"
      ]
     },
     "execution_count": 40,
     "metadata": {},
     "output_type": "execute_result"
    }
   ],
   "source": [
    "like.keys()"
   ]
  },
  {
   "cell_type": "code",
   "execution_count": 41,
   "id": "23bdedc7-c24b-4bc8-a55f-3162b6c6e392",
   "metadata": {},
   "outputs": [
    {
     "data": {
      "text/plain": [
       "list"
      ]
     },
     "execution_count": 41,
     "metadata": {},
     "output_type": "execute_result"
    }
   ],
   "source": [
    "type(like['likes_media_likes'])"
   ]
  },
  {
   "cell_type": "code",
   "execution_count": 42,
   "id": "3cebc094-a2a8-4ef4-a2bd-20e0a243c335",
   "metadata": {},
   "outputs": [
    {
     "data": {
      "text/html": [
       "<div>\n",
       "<style scoped>\n",
       "    .dataframe tbody tr th:only-of-type {\n",
       "        vertical-align: middle;\n",
       "    }\n",
       "\n",
       "    .dataframe tbody tr th {\n",
       "        vertical-align: top;\n",
       "    }\n",
       "\n",
       "    .dataframe thead th {\n",
       "        text-align: right;\n",
       "    }\n",
       "</style>\n",
       "<table border=\"1\" class=\"dataframe\">\n",
       "  <thead>\n",
       "    <tr style=\"text-align: right;\">\n",
       "      <th></th>\n",
       "      <th>title</th>\n",
       "      <th>string_list_data</th>\n",
       "    </tr>\n",
       "  </thead>\n",
       "  <tbody>\n",
       "    <tr>\n",
       "      <th>0</th>\n",
       "      <td>heidisdawghouse</td>\n",
       "      <td>[{'href': 'https://www.instagram.com/reel/C9vI...</td>\n",
       "    </tr>\n",
       "    <tr>\n",
       "      <th>1</th>\n",
       "      <td>vadedsteven</td>\n",
       "      <td>[{'href': 'https://www.instagram.com/reel/C-_X...</td>\n",
       "    </tr>\n",
       "    <tr>\n",
       "      <th>2</th>\n",
       "      <td>gt3rs.only</td>\n",
       "      <td>[{'href': 'https://www.instagram.com/p/C7lokEC...</td>\n",
       "    </tr>\n",
       "    <tr>\n",
       "      <th>3</th>\n",
       "      <td>gt3rs.community</td>\n",
       "      <td>[{'href': 'https://www.instagram.com/p/C7xEQ02...</td>\n",
       "    </tr>\n",
       "    <tr>\n",
       "      <th>4</th>\n",
       "      <td>currentlydawson</td>\n",
       "      <td>[{'href': 'https://www.instagram.com/reel/C8Hk...</td>\n",
       "    </tr>\n",
       "  </tbody>\n",
       "</table>\n",
       "</div>"
      ],
      "text/plain": [
       "             title                                   string_list_data\n",
       "0  heidisdawghouse  [{'href': 'https://www.instagram.com/reel/C9vI...\n",
       "1      vadedsteven  [{'href': 'https://www.instagram.com/reel/C-_X...\n",
       "2       gt3rs.only  [{'href': 'https://www.instagram.com/p/C7lokEC...\n",
       "3  gt3rs.community  [{'href': 'https://www.instagram.com/p/C7xEQ02...\n",
       "4  currentlydawson  [{'href': 'https://www.instagram.com/reel/C8Hk..."
      ]
     },
     "execution_count": 42,
     "metadata": {},
     "output_type": "execute_result"
    }
   ],
   "source": [
    "like_df = pd.DataFrame(like['likes_media_likes'])\n",
    "like_df.head()"
   ]
  },
  {
   "cell_type": "code",
   "execution_count": 43,
   "id": "301e8760-f7b4-483a-b573-ac559793c0b8",
   "metadata": {},
   "outputs": [],
   "source": [
    "like_df_tidy = like_df.drop(columns = ['string_list_data'])"
   ]
  },
  {
   "cell_type": "code",
   "execution_count": 44,
   "id": "df2f0e71-9f5a-4f95-9559-74df80a08bca",
   "metadata": {},
   "outputs": [
    {
     "data": {
      "text/html": [
       "<div>\n",
       "<style scoped>\n",
       "    .dataframe tbody tr th:only-of-type {\n",
       "        vertical-align: middle;\n",
       "    }\n",
       "\n",
       "    .dataframe tbody tr th {\n",
       "        vertical-align: top;\n",
       "    }\n",
       "\n",
       "    .dataframe thead th {\n",
       "        text-align: right;\n",
       "    }\n",
       "</style>\n",
       "<table border=\"1\" class=\"dataframe\">\n",
       "  <thead>\n",
       "    <tr style=\"text-align: right;\">\n",
       "      <th></th>\n",
       "      <th>title</th>\n",
       "    </tr>\n",
       "  </thead>\n",
       "  <tbody>\n",
       "    <tr>\n",
       "      <th>0</th>\n",
       "      <td>heidisdawghouse</td>\n",
       "    </tr>\n",
       "    <tr>\n",
       "      <th>1</th>\n",
       "      <td>vadedsteven</td>\n",
       "    </tr>\n",
       "    <tr>\n",
       "      <th>2</th>\n",
       "      <td>gt3rs.only</td>\n",
       "    </tr>\n",
       "    <tr>\n",
       "      <th>3</th>\n",
       "      <td>gt3rs.community</td>\n",
       "    </tr>\n",
       "    <tr>\n",
       "      <th>4</th>\n",
       "      <td>currentlydawson</td>\n",
       "    </tr>\n",
       "    <tr>\n",
       "      <th>...</th>\n",
       "      <td>...</td>\n",
       "    </tr>\n",
       "    <tr>\n",
       "      <th>14373</th>\n",
       "      <td>wildviideos</td>\n",
       "    </tr>\n",
       "    <tr>\n",
       "      <th>14374</th>\n",
       "      <td>alyssaoleary</td>\n",
       "    </tr>\n",
       "    <tr>\n",
       "      <th>14375</th>\n",
       "      <td>wildviideos</td>\n",
       "    </tr>\n",
       "    <tr>\n",
       "      <th>14376</th>\n",
       "      <td>wildviideos</td>\n",
       "    </tr>\n",
       "    <tr>\n",
       "      <th>14377</th>\n",
       "      <td>wildviideos</td>\n",
       "    </tr>\n",
       "  </tbody>\n",
       "</table>\n",
       "<p>14378 rows × 1 columns</p>\n",
       "</div>"
      ],
      "text/plain": [
       "                 title\n",
       "0      heidisdawghouse\n",
       "1          vadedsteven\n",
       "2           gt3rs.only\n",
       "3      gt3rs.community\n",
       "4      currentlydawson\n",
       "...                ...\n",
       "14373      wildviideos\n",
       "14374     alyssaoleary\n",
       "14375      wildviideos\n",
       "14376      wildviideos\n",
       "14377      wildviideos\n",
       "\n",
       "[14378 rows x 1 columns]"
      ]
     },
     "execution_count": 44,
     "metadata": {},
     "output_type": "execute_result"
    }
   ],
   "source": [
    "like_df_tidy"
   ]
  },
  {
   "cell_type": "code",
   "execution_count": 45,
   "id": "c170734e-6f13-42fd-b21b-956a9a817929",
   "metadata": {},
   "outputs": [
    {
     "data": {
      "text/html": [
       "<div>\n",
       "<style scoped>\n",
       "    .dataframe tbody tr th:only-of-type {\n",
       "        vertical-align: middle;\n",
       "    }\n",
       "\n",
       "    .dataframe tbody tr th {\n",
       "        vertical-align: top;\n",
       "    }\n",
       "\n",
       "    .dataframe thead th {\n",
       "        text-align: right;\n",
       "    }\n",
       "</style>\n",
       "<table border=\"1\" class=\"dataframe\">\n",
       "  <thead>\n",
       "    <tr style=\"text-align: right;\">\n",
       "      <th></th>\n",
       "      <th>title</th>\n",
       "      <th>string_list_data</th>\n",
       "    </tr>\n",
       "  </thead>\n",
       "  <tbody>\n",
       "    <tr>\n",
       "      <th>0</th>\n",
       "      <td>heidisdawghouse</td>\n",
       "      <td>[{'href': 'https://www.instagram.com/reel/C9vI...</td>\n",
       "    </tr>\n",
       "    <tr>\n",
       "      <th>1</th>\n",
       "      <td>vadedsteven</td>\n",
       "      <td>[{'href': 'https://www.instagram.com/reel/C-_X...</td>\n",
       "    </tr>\n",
       "    <tr>\n",
       "      <th>2</th>\n",
       "      <td>gt3rs.only</td>\n",
       "      <td>[{'href': 'https://www.instagram.com/p/C7lokEC...</td>\n",
       "    </tr>\n",
       "    <tr>\n",
       "      <th>3</th>\n",
       "      <td>gt3rs.community</td>\n",
       "      <td>[{'href': 'https://www.instagram.com/p/C7xEQ02...</td>\n",
       "    </tr>\n",
       "    <tr>\n",
       "      <th>4</th>\n",
       "      <td>currentlydawson</td>\n",
       "      <td>[{'href': 'https://www.instagram.com/reel/C8Hk...</td>\n",
       "    </tr>\n",
       "    <tr>\n",
       "      <th>5</th>\n",
       "      <td>mansory</td>\n",
       "      <td>[{'href': 'https://www.instagram.com/reel/C9uX...</td>\n",
       "    </tr>\n",
       "    <tr>\n",
       "      <th>6</th>\n",
       "      <td>ascensionautomotive</td>\n",
       "      <td>[{'href': 'https://www.instagram.com/p/C8fg8CV...</td>\n",
       "    </tr>\n",
       "    <tr>\n",
       "      <th>7</th>\n",
       "      <td>jr__ranakazi</td>\n",
       "      <td>[{'href': 'https://www.instagram.com/reel/C-Hh...</td>\n",
       "    </tr>\n",
       "    <tr>\n",
       "      <th>8</th>\n",
       "      <td>espn</td>\n",
       "      <td>[{'href': 'https://www.instagram.com/p/C_L5KSq...</td>\n",
       "    </tr>\n",
       "    <tr>\n",
       "      <th>9</th>\n",
       "      <td>vk.scales</td>\n",
       "      <td>[{'href': 'https://www.instagram.com/reel/C8hj...</td>\n",
       "    </tr>\n",
       "    <tr>\n",
       "      <th>10</th>\n",
       "      <td>theclevelandmenace</td>\n",
       "      <td>[{'href': 'https://www.instagram.com/p/C_OTyvk...</td>\n",
       "    </tr>\n",
       "    <tr>\n",
       "      <th>11</th>\n",
       "      <td>_vinoxixi</td>\n",
       "      <td>[{'href': 'https://www.instagram.com/reel/C89o...</td>\n",
       "    </tr>\n",
       "    <tr>\n",
       "      <th>12</th>\n",
       "      <td>boss_makhado</td>\n",
       "      <td>[{'href': 'https://www.instagram.com/reel/C8cY...</td>\n",
       "    </tr>\n",
       "    <tr>\n",
       "      <th>13</th>\n",
       "      <td>alyssaoleary</td>\n",
       "      <td>[{'href': 'https://www.instagram.com/p/C_Lsx9a...</td>\n",
       "    </tr>\n",
       "    <tr>\n",
       "      <th>14</th>\n",
       "      <td>mansory</td>\n",
       "      <td>[{'href': 'https://www.instagram.com/reel/C8o0...</td>\n",
       "    </tr>\n",
       "    <tr>\n",
       "      <th>15</th>\n",
       "      <td>mansory</td>\n",
       "      <td>[{'href': 'https://www.instagram.com/reel/C8wX...</td>\n",
       "    </tr>\n",
       "    <tr>\n",
       "      <th>16</th>\n",
       "      <td>mansory</td>\n",
       "      <td>[{'href': 'https://www.instagram.com/reel/C8t-...</td>\n",
       "    </tr>\n",
       "    <tr>\n",
       "      <th>17</th>\n",
       "      <td>tevaloss99</td>\n",
       "      <td>[{'href': 'https://www.instagram.com/reel/C-Nj...</td>\n",
       "    </tr>\n",
       "    <tr>\n",
       "      <th>18</th>\n",
       "      <td>espn</td>\n",
       "      <td>[{'href': 'https://www.instagram.com/p/C_JJrBC...</td>\n",
       "    </tr>\n",
       "    <tr>\n",
       "      <th>19</th>\n",
       "      <td>tspeed_</td>\n",
       "      <td>[{'href': 'https://www.instagram.com/reel/C_GM...</td>\n",
       "    </tr>\n",
       "    <tr>\n",
       "      <th>20</th>\n",
       "      <td>aycars.ae</td>\n",
       "      <td>[{'href': 'https://www.instagram.com/reel/C-VB...</td>\n",
       "    </tr>\n",
       "    <tr>\n",
       "      <th>21</th>\n",
       "      <td>porschecentrewolves</td>\n",
       "      <td>[{'href': 'https://www.instagram.com/reel/C9wu...</td>\n",
       "    </tr>\n",
       "    <tr>\n",
       "      <th>22</th>\n",
       "      <td>mpoole25</td>\n",
       "      <td>[{'href': 'https://www.instagram.com/p/C_JBQ1q...</td>\n",
       "    </tr>\n",
       "    <tr>\n",
       "      <th>23</th>\n",
       "      <td>ccikentstate</td>\n",
       "      <td>[{'href': 'https://www.instagram.com/reel/C_JX...</td>\n",
       "    </tr>\n",
       "    <tr>\n",
       "      <th>24</th>\n",
       "      <td>al_memedose</td>\n",
       "      <td>[{'href': 'https://www.instagram.com/reel/C-6d...</td>\n",
       "    </tr>\n",
       "  </tbody>\n",
       "</table>\n",
       "</div>"
      ],
      "text/plain": [
       "                  title                                   string_list_data\n",
       "0       heidisdawghouse  [{'href': 'https://www.instagram.com/reel/C9vI...\n",
       "1           vadedsteven  [{'href': 'https://www.instagram.com/reel/C-_X...\n",
       "2            gt3rs.only  [{'href': 'https://www.instagram.com/p/C7lokEC...\n",
       "3       gt3rs.community  [{'href': 'https://www.instagram.com/p/C7xEQ02...\n",
       "4       currentlydawson  [{'href': 'https://www.instagram.com/reel/C8Hk...\n",
       "5               mansory  [{'href': 'https://www.instagram.com/reel/C9uX...\n",
       "6   ascensionautomotive  [{'href': 'https://www.instagram.com/p/C8fg8CV...\n",
       "7          jr__ranakazi  [{'href': 'https://www.instagram.com/reel/C-Hh...\n",
       "8                  espn  [{'href': 'https://www.instagram.com/p/C_L5KSq...\n",
       "9             vk.scales  [{'href': 'https://www.instagram.com/reel/C8hj...\n",
       "10   theclevelandmenace  [{'href': 'https://www.instagram.com/p/C_OTyvk...\n",
       "11            _vinoxixi  [{'href': 'https://www.instagram.com/reel/C89o...\n",
       "12         boss_makhado  [{'href': 'https://www.instagram.com/reel/C8cY...\n",
       "13         alyssaoleary  [{'href': 'https://www.instagram.com/p/C_Lsx9a...\n",
       "14              mansory  [{'href': 'https://www.instagram.com/reel/C8o0...\n",
       "15              mansory  [{'href': 'https://www.instagram.com/reel/C8wX...\n",
       "16              mansory  [{'href': 'https://www.instagram.com/reel/C8t-...\n",
       "17           tevaloss99  [{'href': 'https://www.instagram.com/reel/C-Nj...\n",
       "18                 espn  [{'href': 'https://www.instagram.com/p/C_JJrBC...\n",
       "19              tspeed_  [{'href': 'https://www.instagram.com/reel/C_GM...\n",
       "20            aycars.ae  [{'href': 'https://www.instagram.com/reel/C-VB...\n",
       "21  porschecentrewolves  [{'href': 'https://www.instagram.com/reel/C9wu...\n",
       "22             mpoole25  [{'href': 'https://www.instagram.com/p/C_JBQ1q...\n",
       "23         ccikentstate  [{'href': 'https://www.instagram.com/reel/C_JX...\n",
       "24          al_memedose  [{'href': 'https://www.instagram.com/reel/C-6d..."
      ]
     },
     "execution_count": 45,
     "metadata": {},
     "output_type": "execute_result"
    }
   ],
   "source": [
    "like_df.head(25)"
   ]
  },
  {
   "cell_type": "code",
   "execution_count": 46,
   "id": "36e1885a-dd6f-40a3-8b52-b959a5e77fda",
   "metadata": {},
   "outputs": [
    {
     "ename": "KeyError",
     "evalue": "'string_list_data'",
     "output_type": "error",
     "traceback": [
      "\u001b[0;31m---------------------------------------------------------------------------\u001b[0m",
      "\u001b[0;31mKeyError\u001b[0m                                  Traceback (most recent call last)",
      "\u001b[0;32m/var/folders/y1/66hmb6pd3vq7b7sjftqhvvkw0000gn/T/ipykernel_93139/661798731.py\u001b[0m in \u001b[0;36m?\u001b[0;34m()\u001b[0m\n\u001b[0;32m----> 1\u001b[0;31m \u001b[0mlike_df_tidy\u001b[0m\u001b[0;34m.\u001b[0m\u001b[0mgroupby\u001b[0m\u001b[0;34m(\u001b[0m\u001b[0;34m'title'\u001b[0m\u001b[0;34m)\u001b[0m\u001b[0;34m.\u001b[0m\u001b[0mcount\u001b[0m\u001b[0;34m(\u001b[0m\u001b[0;34m)\u001b[0m\u001b[0;34m.\u001b[0m\u001b[0msort_values\u001b[0m\u001b[0;34m(\u001b[0m\u001b[0;34m'string_list_data'\u001b[0m\u001b[0;34m,\u001b[0m \u001b[0mascending\u001b[0m \u001b[0;34m=\u001b[0m \u001b[0;32mFalse\u001b[0m\u001b[0;34m)\u001b[0m\u001b[0;34m[\u001b[0m\u001b[0;34m'title'\u001b[0m\u001b[0;34m]\u001b[0m\u001b[0;34m.\u001b[0m\u001b[0mplot\u001b[0m\u001b[0;34m(\u001b[0m\u001b[0mkind\u001b[0m \u001b[0;34m=\u001b[0m \u001b[0;34m'bar'\u001b[0m\u001b[0;34m)\u001b[0m\u001b[0;34m\u001b[0m\u001b[0;34m\u001b[0m\u001b[0m\n\u001b[0m",
      "\u001b[0;32m/opt/anaconda3/envs/data-fa24/lib/python3.12/site-packages/pandas/core/frame.py\u001b[0m in \u001b[0;36m?\u001b[0;34m(self, by, axis, ascending, inplace, kind, na_position, ignore_index, key)\u001b[0m\n\u001b[1;32m   7185\u001b[0m             \u001b[0;34m)\u001b[0m\u001b[0;34m\u001b[0m\u001b[0;34m\u001b[0m\u001b[0m\n\u001b[1;32m   7186\u001b[0m         \u001b[0;32melif\u001b[0m \u001b[0mlen\u001b[0m\u001b[0;34m(\u001b[0m\u001b[0mby\u001b[0m\u001b[0;34m)\u001b[0m\u001b[0;34m:\u001b[0m\u001b[0;34m\u001b[0m\u001b[0;34m\u001b[0m\u001b[0m\n\u001b[1;32m   7187\u001b[0m             \u001b[0;31m# len(by) == 1\u001b[0m\u001b[0;34m\u001b[0m\u001b[0;34m\u001b[0m\u001b[0m\n\u001b[1;32m   7188\u001b[0m \u001b[0;34m\u001b[0m\u001b[0m\n\u001b[0;32m-> 7189\u001b[0;31m             \u001b[0mk\u001b[0m \u001b[0;34m=\u001b[0m \u001b[0mself\u001b[0m\u001b[0;34m.\u001b[0m\u001b[0m_get_label_or_level_values\u001b[0m\u001b[0;34m(\u001b[0m\u001b[0mby\u001b[0m\u001b[0;34m[\u001b[0m\u001b[0;36m0\u001b[0m\u001b[0;34m]\u001b[0m\u001b[0;34m,\u001b[0m \u001b[0maxis\u001b[0m\u001b[0;34m=\u001b[0m\u001b[0maxis\u001b[0m\u001b[0;34m)\u001b[0m\u001b[0;34m\u001b[0m\u001b[0;34m\u001b[0m\u001b[0m\n\u001b[0m\u001b[1;32m   7190\u001b[0m \u001b[0;34m\u001b[0m\u001b[0m\n\u001b[1;32m   7191\u001b[0m             \u001b[0;31m# need to rewrap column in Series to apply key function\u001b[0m\u001b[0;34m\u001b[0m\u001b[0;34m\u001b[0m\u001b[0m\n\u001b[1;32m   7192\u001b[0m             \u001b[0;32mif\u001b[0m \u001b[0mkey\u001b[0m \u001b[0;32mis\u001b[0m \u001b[0;32mnot\u001b[0m \u001b[0;32mNone\u001b[0m\u001b[0;34m:\u001b[0m\u001b[0;34m\u001b[0m\u001b[0;34m\u001b[0m\u001b[0m\n",
      "\u001b[0;32m/opt/anaconda3/envs/data-fa24/lib/python3.12/site-packages/pandas/core/generic.py\u001b[0m in \u001b[0;36m?\u001b[0;34m(self, key, axis)\u001b[0m\n\u001b[1;32m   1907\u001b[0m             \u001b[0mvalues\u001b[0m \u001b[0;34m=\u001b[0m \u001b[0mself\u001b[0m\u001b[0;34m.\u001b[0m\u001b[0mxs\u001b[0m\u001b[0;34m(\u001b[0m\u001b[0mkey\u001b[0m\u001b[0;34m,\u001b[0m \u001b[0maxis\u001b[0m\u001b[0;34m=\u001b[0m\u001b[0mother_axes\u001b[0m\u001b[0;34m[\u001b[0m\u001b[0;36m0\u001b[0m\u001b[0;34m]\u001b[0m\u001b[0;34m)\u001b[0m\u001b[0;34m.\u001b[0m\u001b[0m_values\u001b[0m\u001b[0;34m\u001b[0m\u001b[0;34m\u001b[0m\u001b[0m\n\u001b[1;32m   1908\u001b[0m         \u001b[0;32melif\u001b[0m \u001b[0mself\u001b[0m\u001b[0;34m.\u001b[0m\u001b[0m_is_level_reference\u001b[0m\u001b[0;34m(\u001b[0m\u001b[0mkey\u001b[0m\u001b[0;34m,\u001b[0m \u001b[0maxis\u001b[0m\u001b[0;34m=\u001b[0m\u001b[0maxis\u001b[0m\u001b[0;34m)\u001b[0m\u001b[0;34m:\u001b[0m\u001b[0;34m\u001b[0m\u001b[0;34m\u001b[0m\u001b[0m\n\u001b[1;32m   1909\u001b[0m             \u001b[0mvalues\u001b[0m \u001b[0;34m=\u001b[0m \u001b[0mself\u001b[0m\u001b[0;34m.\u001b[0m\u001b[0maxes\u001b[0m\u001b[0;34m[\u001b[0m\u001b[0maxis\u001b[0m\u001b[0;34m]\u001b[0m\u001b[0;34m.\u001b[0m\u001b[0mget_level_values\u001b[0m\u001b[0;34m(\u001b[0m\u001b[0mkey\u001b[0m\u001b[0;34m)\u001b[0m\u001b[0;34m.\u001b[0m\u001b[0m_values\u001b[0m\u001b[0;34m\u001b[0m\u001b[0;34m\u001b[0m\u001b[0m\n\u001b[1;32m   1910\u001b[0m         \u001b[0;32melse\u001b[0m\u001b[0;34m:\u001b[0m\u001b[0;34m\u001b[0m\u001b[0;34m\u001b[0m\u001b[0m\n\u001b[0;32m-> 1911\u001b[0;31m             \u001b[0;32mraise\u001b[0m \u001b[0mKeyError\u001b[0m\u001b[0;34m(\u001b[0m\u001b[0mkey\u001b[0m\u001b[0;34m)\u001b[0m\u001b[0;34m\u001b[0m\u001b[0;34m\u001b[0m\u001b[0m\n\u001b[0m\u001b[1;32m   1912\u001b[0m \u001b[0;34m\u001b[0m\u001b[0m\n\u001b[1;32m   1913\u001b[0m         \u001b[0;31m# Check for duplicates\u001b[0m\u001b[0;34m\u001b[0m\u001b[0;34m\u001b[0m\u001b[0m\n\u001b[1;32m   1914\u001b[0m         \u001b[0;32mif\u001b[0m \u001b[0mvalues\u001b[0m\u001b[0;34m.\u001b[0m\u001b[0mndim\u001b[0m \u001b[0;34m>\u001b[0m \u001b[0;36m1\u001b[0m\u001b[0;34m:\u001b[0m\u001b[0;34m\u001b[0m\u001b[0;34m\u001b[0m\u001b[0m\n",
      "\u001b[0;31mKeyError\u001b[0m: 'string_list_data'"
     ]
    }
   ],
   "source": [
    "like_df_tidy.groupby('title').count().sort_values('string_list_data', ascending = False)['title'].plot(kind = 'bar')"
   ]
  },
  {
   "cell_type": "markdown",
   "id": "672fc531-5b57-47bf-8a0b-417d784d4bf3",
   "metadata": {},
   "source": [
    "1. A hypothesis that could be tested with the data I have is that I only like instagram stories from people I am close with or a sports team that interests me. My theory is that there will be more liked stories from people I am close but there will be a sprinkle of sports teams. Statistically I know there will be less data here than there would be likes from posts because I see and interact with more posts than instagram stories."
   ]
  },
  {
   "cell_type": "code",
   "execution_count": 28,
   "id": "4eb6b777-8dda-48db-9d38-bf1c546d1dc1",
   "metadata": {},
   "outputs": [],
   "source": [
    "import json\n",
    "import pandas as pd"
   ]
  },
  {
   "cell_type": "code",
   "execution_count": 29,
   "id": "94824844-d65e-4a1c-ba2e-7948ce861daa",
   "metadata": {},
   "outputs": [],
   "source": [
    "path = \"/Users/kyleoleary/Downloads/instagram-kyleoleary17-2024-08-29-vXK2KDdU/your_instagram_activity/story_sticker_interactions/story_likes.json\"\n",
    "with open(path)as j:\n",
    "    story = json.load(j)"
   ]
  },
  {
   "cell_type": "code",
   "execution_count": 30,
   "id": "bcd0aa5c-d191-446e-bf67-08c491610149",
   "metadata": {},
   "outputs": [
    {
     "data": {
      "text/plain": [
       "dict_keys(['story_activities_story_likes'])"
      ]
     },
     "execution_count": 30,
     "metadata": {},
     "output_type": "execute_result"
    }
   ],
   "source": [
    "story.keys()"
   ]
  },
  {
   "cell_type": "code",
   "execution_count": 31,
   "id": "229f82bb-dcca-4d1a-884d-16fcbe96453d",
   "metadata": {},
   "outputs": [
    {
     "data": {
      "text/plain": [
       "list"
      ]
     },
     "execution_count": 31,
     "metadata": {},
     "output_type": "execute_result"
    }
   ],
   "source": [
    "type(story['story_activities_story_likes'])"
   ]
  },
  {
   "cell_type": "code",
   "execution_count": 32,
   "id": "49e47706-32a7-4f25-886d-f2db4d816591",
   "metadata": {},
   "outputs": [
    {
     "data": {
      "text/html": [
       "<div>\n",
       "<style scoped>\n",
       "    .dataframe tbody tr th:only-of-type {\n",
       "        vertical-align: middle;\n",
       "    }\n",
       "\n",
       "    .dataframe tbody tr th {\n",
       "        vertical-align: top;\n",
       "    }\n",
       "\n",
       "    .dataframe thead th {\n",
       "        text-align: right;\n",
       "    }\n",
       "</style>\n",
       "<table border=\"1\" class=\"dataframe\">\n",
       "  <thead>\n",
       "    <tr style=\"text-align: right;\">\n",
       "      <th></th>\n",
       "      <th>title</th>\n",
       "      <th>string_list_data</th>\n",
       "    </tr>\n",
       "  </thead>\n",
       "  <tbody>\n",
       "    <tr>\n",
       "      <th>0</th>\n",
       "      <td>gabriella.foreman</td>\n",
       "      <td>[{'timestamp': 1724597405}]</td>\n",
       "    </tr>\n",
       "    <tr>\n",
       "      <th>1</th>\n",
       "      <td>sophia.paratore</td>\n",
       "      <td>[{'timestamp': 1723956425}]</td>\n",
       "    </tr>\n",
       "    <tr>\n",
       "      <th>2</th>\n",
       "      <td>seandunlay_</td>\n",
       "      <td>[{'timestamp': 1723813424}]</td>\n",
       "    </tr>\n",
       "    <tr>\n",
       "      <th>3</th>\n",
       "      <td>hannahroberts_26</td>\n",
       "      <td>[{'timestamp': 1723254230}]</td>\n",
       "    </tr>\n",
       "    <tr>\n",
       "      <th>4</th>\n",
       "      <td>isaac_blankenship_</td>\n",
       "      <td>[{'timestamp': 1722051541}]</td>\n",
       "    </tr>\n",
       "    <tr>\n",
       "      <th>...</th>\n",
       "      <td>...</td>\n",
       "      <td>...</td>\n",
       "    </tr>\n",
       "    <tr>\n",
       "      <th>74</th>\n",
       "      <td>chaboimillz</td>\n",
       "      <td>[{'timestamp': 1652625456}]</td>\n",
       "    </tr>\n",
       "    <tr>\n",
       "      <th>75</th>\n",
       "      <td>jakemally</td>\n",
       "      <td>[{'timestamp': 1652621890}]</td>\n",
       "    </tr>\n",
       "    <tr>\n",
       "      <th>76</th>\n",
       "      <td>jjjonesmac</td>\n",
       "      <td>[{'timestamp': 1652587372}]</td>\n",
       "    </tr>\n",
       "    <tr>\n",
       "      <th>77</th>\n",
       "      <td>jon.elliott_</td>\n",
       "      <td>[{'timestamp': 1652586763}]</td>\n",
       "    </tr>\n",
       "    <tr>\n",
       "      <th>78</th>\n",
       "      <td>chriscapuozzo</td>\n",
       "      <td>[{'timestamp': 1651437117}]</td>\n",
       "    </tr>\n",
       "  </tbody>\n",
       "</table>\n",
       "<p>79 rows × 2 columns</p>\n",
       "</div>"
      ],
      "text/plain": [
       "                 title             string_list_data\n",
       "0    gabriella.foreman  [{'timestamp': 1724597405}]\n",
       "1      sophia.paratore  [{'timestamp': 1723956425}]\n",
       "2          seandunlay_  [{'timestamp': 1723813424}]\n",
       "3     hannahroberts_26  [{'timestamp': 1723254230}]\n",
       "4   isaac_blankenship_  [{'timestamp': 1722051541}]\n",
       "..                 ...                          ...\n",
       "74         chaboimillz  [{'timestamp': 1652625456}]\n",
       "75           jakemally  [{'timestamp': 1652621890}]\n",
       "76          jjjonesmac  [{'timestamp': 1652587372}]\n",
       "77        jon.elliott_  [{'timestamp': 1652586763}]\n",
       "78       chriscapuozzo  [{'timestamp': 1651437117}]\n",
       "\n",
       "[79 rows x 2 columns]"
      ]
     },
     "execution_count": 32,
     "metadata": {},
     "output_type": "execute_result"
    }
   ],
   "source": [
    "story_df = pd.DataFrame(story['story_activities_story_likes'])\n",
    "story_df"
   ]
  },
  {
   "cell_type": "code",
   "execution_count": 33,
   "id": "6e349286-f4a4-4531-8167-d4f3678184d2",
   "metadata": {},
   "outputs": [
    {
     "data": {
      "text/html": [
       "<div>\n",
       "<style scoped>\n",
       "    .dataframe tbody tr th:only-of-type {\n",
       "        vertical-align: middle;\n",
       "    }\n",
       "\n",
       "    .dataframe tbody tr th {\n",
       "        vertical-align: top;\n",
       "    }\n",
       "\n",
       "    .dataframe thead th {\n",
       "        text-align: right;\n",
       "    }\n",
       "</style>\n",
       "<table border=\"1\" class=\"dataframe\">\n",
       "  <thead>\n",
       "    <tr style=\"text-align: right;\">\n",
       "      <th></th>\n",
       "      <th>title</th>\n",
       "      <th>string_list_data</th>\n",
       "    </tr>\n",
       "  </thead>\n",
       "  <tbody>\n",
       "    <tr>\n",
       "      <th>0</th>\n",
       "      <td>gabriella.foreman</td>\n",
       "      <td>[{'timestamp': 1724597405}]</td>\n",
       "    </tr>\n",
       "    <tr>\n",
       "      <th>1</th>\n",
       "      <td>sophia.paratore</td>\n",
       "      <td>[{'timestamp': 1723956425}]</td>\n",
       "    </tr>\n",
       "    <tr>\n",
       "      <th>2</th>\n",
       "      <td>seandunlay_</td>\n",
       "      <td>[{'timestamp': 1723813424}]</td>\n",
       "    </tr>\n",
       "    <tr>\n",
       "      <th>3</th>\n",
       "      <td>hannahroberts_26</td>\n",
       "      <td>[{'timestamp': 1723254230}]</td>\n",
       "    </tr>\n",
       "    <tr>\n",
       "      <th>4</th>\n",
       "      <td>isaac_blankenship_</td>\n",
       "      <td>[{'timestamp': 1722051541}]</td>\n",
       "    </tr>\n",
       "    <tr>\n",
       "      <th>5</th>\n",
       "      <td>cavs</td>\n",
       "      <td>[{'timestamp': 1720195265}]</td>\n",
       "    </tr>\n",
       "    <tr>\n",
       "      <th>6</th>\n",
       "      <td>meganpreis24</td>\n",
       "      <td>[{'timestamp': 1719756766}]</td>\n",
       "    </tr>\n",
       "    <tr>\n",
       "      <th>7</th>\n",
       "      <td>annarozic</td>\n",
       "      <td>[{'timestamp': 1719177789}]</td>\n",
       "    </tr>\n",
       "    <tr>\n",
       "      <th>8</th>\n",
       "      <td>bolinskiblake</td>\n",
       "      <td>[{'timestamp': 1719088085}]</td>\n",
       "    </tr>\n",
       "    <tr>\n",
       "      <th>9</th>\n",
       "      <td>theclevelandmenace</td>\n",
       "      <td>[{'timestamp': 1718704108}]</td>\n",
       "    </tr>\n",
       "  </tbody>\n",
       "</table>\n",
       "</div>"
      ],
      "text/plain": [
       "                title             string_list_data\n",
       "0   gabriella.foreman  [{'timestamp': 1724597405}]\n",
       "1     sophia.paratore  [{'timestamp': 1723956425}]\n",
       "2         seandunlay_  [{'timestamp': 1723813424}]\n",
       "3    hannahroberts_26  [{'timestamp': 1723254230}]\n",
       "4  isaac_blankenship_  [{'timestamp': 1722051541}]\n",
       "5                cavs  [{'timestamp': 1720195265}]\n",
       "6        meganpreis24  [{'timestamp': 1719756766}]\n",
       "7           annarozic  [{'timestamp': 1719177789}]\n",
       "8       bolinskiblake  [{'timestamp': 1719088085}]\n",
       "9  theclevelandmenace  [{'timestamp': 1718704108}]"
      ]
     },
     "execution_count": 33,
     "metadata": {},
     "output_type": "execute_result"
    }
   ],
   "source": [
    "story_df.head(10)"
   ]
  },
  {
   "cell_type": "markdown",
   "id": "d5e4634f-71cf-419d-aac9-8de1dc9f17e6",
   "metadata": {},
   "source": [
    "1. I think the data frame is pretty tidy, I could probably drop the string_list_data so it would only display the names of the users but other than that its tidy. I believe this was definitely used to test my hypothesis because like I said there would be less data of story likes than my post likes, which is true, there would be more liked stories from my close friends but also sprinkle in some sports teams, which is true in the data frame that is displayed."
   ]
  }
 ],
 "metadata": {
  "kernelspec": {
   "display_name": "Python 3 (ipykernel)",
   "language": "python",
   "name": "python3"
  },
  "language_info": {
   "codemirror_mode": {
    "name": "ipython",
    "version": 3
   },
   "file_extension": ".py",
   "mimetype": "text/x-python",
   "name": "python",
   "nbconvert_exporter": "python",
   "pygments_lexer": "ipython3",
   "version": "3.12.4"
  }
 },
 "nbformat": 4,
 "nbformat_minor": 5
}

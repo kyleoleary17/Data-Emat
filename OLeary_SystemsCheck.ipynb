{
 "cells": [
  {
   "cell_type": "markdown",
   "id": "ff955063-05d4-4221-87a9-df1b9c9ae299",
   "metadata": {},
   "source": [
    "# 2024\n",
    "## porsche\n",
    "### 911\n",
    "#### gt3rs\n",
    "#### XD"
   ]
  },
  {
   "cell_type": "markdown",
   "id": "ec74df99-f55e-4d2f-ad99-8c390030057c",
   "metadata": {},
   "source": [
    "1. Ordered list 1\n",
    "2. Ordered list 2\n",
    "3. Ordered list 3"
   ]
  },
  {
   "cell_type": "markdown",
   "id": "eaddd5a1-0059-46eb-97c7-915384155f01",
   "metadata": {},
   "source": [
    "**this is bold text**\n",
    "**BOLD TEXT**"
   ]
  },
  {
   "cell_type": "markdown",
   "id": "e85d1b22-faa9-414f-855b-dee0382cd1d5",
   "metadata": {},
   "source": [
    "*this is italic text*\n",
    "*Italic text*"
   ]
  },
  {
   "cell_type": "markdown",
   "id": "bc7c835d-ae50-47c4-a38a-c7a2eb28d008",
   "metadata": {},
   "source": [
    "![this is gt3rs hahahah](https://cdn.motor1.com/images/mgl/zxxMzK/s3/2023-porsche-911-gt3-rs.jpg)"
   ]
  }
 ],
 "metadata": {
  "kernelspec": {
   "display_name": "Python 3 (ipykernel)",
   "language": "python",
   "name": "python3"
  },
  "language_info": {
   "codemirror_mode": {
    "name": "ipython",
    "version": 3
   },
   "file_extension": ".py",
   "mimetype": "text/x-python",
   "name": "python",
   "nbconvert_exporter": "python",
   "pygments_lexer": "ipython3",
   "version": "3.12.4"
  }
 },
 "nbformat": 4,
 "nbformat_minor": 5
}
